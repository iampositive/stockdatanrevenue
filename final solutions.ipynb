{
 "cells": [
  {
   "cell_type": "code",
   "execution_count": 1,
   "id": "fe342412-70fc-4a18-9c40-3dc00183de53",
   "metadata": {
    "collapsed": true,
    "jupyter": {
     "outputs_hidden": true
    },
    "tags": []
   },
   "outputs": [
    {
     "name": "stdout",
     "output_type": "stream",
     "text": [
      "Requirement already satisfied: yfinance in /home/jupyterlab/conda/envs/python/lib/python3.7/site-packages (0.2.36)\n",
      "Requirement already satisfied: pandas>=1.3.0 in /home/jupyterlab/conda/envs/python/lib/python3.7/site-packages (from yfinance) (1.3.5)\n",
      "Requirement already satisfied: numpy>=1.16.5 in /home/jupyterlab/conda/envs/python/lib/python3.7/site-packages (from yfinance) (1.21.6)\n",
      "Requirement already satisfied: requests>=2.31 in /home/jupyterlab/conda/envs/python/lib/python3.7/site-packages (from yfinance) (2.31.0)\n",
      "Requirement already satisfied: multitasking>=0.0.7 in /home/jupyterlab/conda/envs/python/lib/python3.7/site-packages (from yfinance) (0.0.11)\n",
      "Requirement already satisfied: lxml>=4.9.1 in /home/jupyterlab/conda/envs/python/lib/python3.7/site-packages (from yfinance) (4.9.2)\n",
      "Requirement already satisfied: appdirs>=1.4.4 in /home/jupyterlab/conda/envs/python/lib/python3.7/site-packages (from yfinance) (1.4.4)\n",
      "Requirement already satisfied: pytz>=2022.5 in /home/jupyterlab/conda/envs/python/lib/python3.7/site-packages (from yfinance) (2023.3)\n",
      "Requirement already satisfied: frozendict>=2.3.4 in /home/jupyterlab/conda/envs/python/lib/python3.7/site-packages (from yfinance) (2.4.0)\n",
      "Requirement already satisfied: peewee>=3.16.2 in /home/jupyterlab/conda/envs/python/lib/python3.7/site-packages (from yfinance) (3.17.1)\n",
      "Requirement already satisfied: beautifulsoup4>=4.11.1 in /home/jupyterlab/conda/envs/python/lib/python3.7/site-packages (from yfinance) (4.11.1)\n",
      "Requirement already satisfied: html5lib>=1.1 in /home/jupyterlab/conda/envs/python/lib/python3.7/site-packages (from yfinance) (1.1)\n",
      "Requirement already satisfied: soupsieve>1.2 in /home/jupyterlab/conda/envs/python/lib/python3.7/site-packages (from beautifulsoup4>=4.11.1->yfinance) (2.3.2.post1)\n",
      "Requirement already satisfied: six>=1.9 in /home/jupyterlab/conda/envs/python/lib/python3.7/site-packages (from html5lib>=1.1->yfinance) (1.16.0)\n",
      "Requirement already satisfied: webencodings in /home/jupyterlab/conda/envs/python/lib/python3.7/site-packages (from html5lib>=1.1->yfinance) (0.5.1)\n",
      "Requirement already satisfied: python-dateutil>=2.7.3 in /home/jupyterlab/conda/envs/python/lib/python3.7/site-packages (from pandas>=1.3.0->yfinance) (2.8.2)\n",
      "Requirement already satisfied: charset-normalizer<4,>=2 in /home/jupyterlab/conda/envs/python/lib/python3.7/site-packages (from requests>=2.31->yfinance) (3.1.0)\n",
      "Requirement already satisfied: idna<4,>=2.5 in /home/jupyterlab/conda/envs/python/lib/python3.7/site-packages (from requests>=2.31->yfinance) (3.4)\n",
      "Requirement already satisfied: urllib3<3,>=1.21.1 in /home/jupyterlab/conda/envs/python/lib/python3.7/site-packages (from requests>=2.31->yfinance) (1.26.15)\n",
      "Requirement already satisfied: certifi>=2017.4.17 in /home/jupyterlab/conda/envs/python/lib/python3.7/site-packages (from requests>=2.31->yfinance) (2023.5.7)\n"
     ]
    }
   ],
   "source": [
    "!pip install yfinance"
   ]
  },
  {
   "cell_type": "markdown",
   "id": "b089271c-a60b-44c8-91d7-59d0ecf87145",
   "metadata": {},
   "source": [
    "Question 1: Use yfinance to Extract Stock Data"
   ]
  },
  {
   "cell_type": "code",
   "execution_count": 2,
   "id": "a916ed4b-bb57-45b4-9e68-8bd1b38370b4",
   "metadata": {},
   "outputs": [],
   "source": [
    "import yfinance as yf"
   ]
  },
  {
   "cell_type": "code",
   "execution_count": 3,
   "id": "e055db36-5617-4053-a883-c1a93af21dc2",
   "metadata": {},
   "outputs": [],
   "source": [
    "# Create a ticker object\n",
    "tsla = yf.Ticker('TSLA')"
   ]
  },
  {
   "cell_type": "code",
   "execution_count": 4,
   "id": "8e3a9be1-a70f-439b-a25f-0c59d03391ff",
   "metadata": {},
   "outputs": [],
   "source": [
    "# Extract stock information and save it in a dataframe named tesla_data\n",
    "tsla_data = tsla.history(period=\"max\")"
   ]
  },
  {
   "cell_type": "code",
   "execution_count": 5,
   "id": "45166ade-32bf-4d4d-ae29-04ba7b57ab13",
   "metadata": {},
   "outputs": [],
   "source": [
    "# Reset the index\n",
    "tsla_data.reset_index(inplace=True)"
   ]
  },
  {
   "cell_type": "code",
   "execution_count": 6,
   "id": "e55b9aa4-0e97-4e3a-a3ef-72a180bedbbd",
   "metadata": {
    "tags": []
   },
   "outputs": [
    {
     "name": "stdout",
     "output_type": "stream",
     "text": [
      "                       Date      Open      High       Low     Close  \\\n",
      "0 2010-06-29 00:00:00-04:00  1.266667  1.666667  1.169333  1.592667   \n",
      "1 2010-06-30 00:00:00-04:00  1.719333  2.028000  1.553333  1.588667   \n",
      "2 2010-07-01 00:00:00-04:00  1.666667  1.728000  1.351333  1.464000   \n",
      "3 2010-07-02 00:00:00-04:00  1.533333  1.540000  1.247333  1.280000   \n",
      "4 2010-07-06 00:00:00-04:00  1.333333  1.333333  1.055333  1.074000   \n",
      "\n",
      "      Volume  Dividends  Stock Splits  \n",
      "0  281494500        0.0           0.0  \n",
      "1  257806500        0.0           0.0  \n",
      "2  123282000        0.0           0.0  \n",
      "3   77097000        0.0           0.0  \n",
      "4  103003500        0.0           0.0  \n"
     ]
    }
   ],
   "source": [
    "# Display the first five rows of the tesla_data dataframe\n",
    "print(tsla_data.head())"
   ]
  },
  {
   "cell_type": "markdown",
   "id": "edaca7fa-55ce-4629-b210-3c4673a40744",
   "metadata": {},
   "source": [
    "Question 2: Use Webscraping to Extract Tesla Revenue Data"
   ]
  },
  {
   "cell_type": "code",
   "execution_count": 7,
   "id": "2d2b54e8-676c-4543-b0ec-29426edd4e4a",
   "metadata": {
    "tags": []
   },
   "outputs": [],
   "source": [
    "import requests\n",
    "import pandas as pd\n",
    "from bs4 import BeautifulSoup"
   ]
  },
  {
   "cell_type": "code",
   "execution_count": 8,
   "id": "2ca99e21-e425-4d2a-8f98-be23af5e6cdf",
   "metadata": {
    "tags": []
   },
   "outputs": [],
   "source": [
    "# Download the webpage\n",
    "url = \"https://cf-courses-data.s3.us.cloud-object-storage.appdomain.cloud/IBMDeveloperSkillsNetwork-PY0220EN-SkillsNetwork/labs/project/revenue.htm\"\n",
    "html_data = requests.get(url).text\n"
   ]
  },
  {
   "cell_type": "code",
   "execution_count": 9,
   "id": "d4baff98-b2ef-444b-b5ee-88743966a07c",
   "metadata": {
    "tags": []
   },
   "outputs": [],
   "source": [
    "# Parse the html data\n",
    "soup = BeautifulSoup(html_data, \"html.parser\")"
   ]
  },
  {
   "cell_type": "code",
   "execution_count": 10,
   "id": "6ec3ff17-1117-4172-9019-4e38306cc1dc",
   "metadata": {
    "tags": []
   },
   "outputs": [],
   "source": [
    "#find a html table in the web page\n",
    "table = soup.find('table') # in html table is represented by the tag <table>\n",
    "tsla_revenue = pd.read_html(str(table))[0]"
   ]
  },
  {
   "cell_type": "code",
   "execution_count": 11,
   "id": "4e81d9d1-9620-476d-89d2-baa41f34e2e2",
   "metadata": {},
   "outputs": [],
   "source": [
    "# Rename columns\n",
    "tsla_revenue.columns = [\"Date\", \"Revenue\"]"
   ]
  },
  {
   "cell_type": "code",
   "execution_count": 31,
   "id": "a88dade2-cfc2-4f51-a8d8-be314734a5bb",
   "metadata": {
    "tags": []
   },
   "outputs": [],
   "source": [
    "# Remove comma and dollar sign from Revenue column\n",
    "tsla_revenue[\"Revenue\"] = tsla_revenue['Revenue'].str.replace(',|\\$',\"\", regex=True)"
   ]
  },
  {
   "cell_type": "code",
   "execution_count": 13,
   "id": "c88274bc-9789-4a25-a1f7-ceec63c75aaa",
   "metadata": {},
   "outputs": [],
   "source": [
    "# Remove null or empty strings in the Revenue column\n",
    "tsla_revenue.dropna(inplace=True)\n",
    "tsla_revenue = tsla_revenue[tsla_revenue['Revenue'] != \"\"]\n"
   ]
  },
  {
   "cell_type": "code",
   "execution_count": 14,
   "id": "49fe36c4-c1c0-4f57-bb0a-b0d74a6ad3e7",
   "metadata": {
    "tags": []
   },
   "outputs": [
    {
     "name": "stdout",
     "output_type": "stream",
     "text": [
      "    Date Revenue\n",
      "8   2013    2013\n",
      "9   2012     413\n",
      "10  2011     204\n",
      "11  2010     117\n",
      "12  2009     112\n"
     ]
    }
   ],
   "source": [
    "# Display the last 5 rows of the tesla_revenue dataframe\n",
    "print(tsla_revenue.tail())"
   ]
  },
  {
   "cell_type": "code",
   "execution_count": null,
   "id": "9fd4774a-83cd-48c6-be03-5b159f6137fa",
   "metadata": {},
   "outputs": [],
   "source": []
  },
  {
   "cell_type": "markdown",
   "id": "872c7860-aa79-4bd4-8946-e12d46ec93a4",
   "metadata": {},
   "source": [
    "Question 3: Use yfinance to Extract Stock Data"
   ]
  },
  {
   "cell_type": "code",
   "execution_count": 15,
   "id": "882431f6-bf47-4eb8-aa60-1d8cf459d759",
   "metadata": {},
   "outputs": [],
   "source": [
    "# Create a ticker object\n",
    "gme = yf.Ticker('GME')"
   ]
  },
  {
   "cell_type": "code",
   "execution_count": 16,
   "id": "1a2b8541-2785-49d0-8077-3c451c0edc7d",
   "metadata": {},
   "outputs": [],
   "source": [
    "# Extract stock information and save it in a dataframe named gme_data\n",
    "gme_data = gme.history(period=\"max\")"
   ]
  },
  {
   "cell_type": "code",
   "execution_count": 17,
   "id": "1f0428bb-8dc0-4b3a-9851-2dddd790eb9a",
   "metadata": {},
   "outputs": [],
   "source": [
    "# Reset the index\n",
    "gme_data.reset_index(inplace=True)"
   ]
  },
  {
   "cell_type": "code",
   "execution_count": 18,
   "id": "49846310-17bd-4ada-adef-2748e82e4d58",
   "metadata": {},
   "outputs": [
    {
     "name": "stdout",
     "output_type": "stream",
     "text": [
      "                       Date      Open      High       Low     Close    Volume  \\\n",
      "0 2002-02-13 00:00:00-05:00  1.620128  1.693350  1.603296  1.691667  76216000   \n",
      "1 2002-02-14 00:00:00-05:00  1.712707  1.716074  1.670626  1.683250  11021600   \n",
      "2 2002-02-15 00:00:00-05:00  1.683250  1.687458  1.658001  1.674834   8389600   \n",
      "3 2002-02-19 00:00:00-05:00  1.666418  1.666418  1.578048  1.607504   7410400   \n",
      "4 2002-02-20 00:00:00-05:00  1.615921  1.662210  1.603296  1.662210   6892800   \n",
      "\n",
      "   Dividends  Stock Splits  \n",
      "0        0.0           0.0  \n",
      "1        0.0           0.0  \n",
      "2        0.0           0.0  \n",
      "3        0.0           0.0  \n",
      "4        0.0           0.0  \n"
     ]
    }
   ],
   "source": [
    "# Display the first five rows of the gme_data dataframe\n",
    "print(gme_data.head())"
   ]
  },
  {
   "cell_type": "code",
   "execution_count": null,
   "id": "16d7cbdb-b9c6-44a7-965a-bfe81196352a",
   "metadata": {},
   "outputs": [],
   "source": []
  },
  {
   "cell_type": "markdown",
   "id": "10e14c3c-928e-4a8f-87a2-f28085ff1e0e",
   "metadata": {},
   "source": [
    "Question 4: Use Webscraping to Extract GME Revenue Data"
   ]
  },
  {
   "cell_type": "code",
   "execution_count": 19,
   "id": "df405509-a36f-431f-a2f6-650ed05db844",
   "metadata": {},
   "outputs": [],
   "source": [
    "# Download the webpage\n",
    "gme_url = \"https://cf-courses-data.s3.us.cloud-object-storage.appdomain.cloud/IBMDeveloperSkillsNetwork-PY0220EN-SkillsNetwork/labs/project/stock.html\"\n",
    "gme_html_data = requests.get(gme_url).text"
   ]
  },
  {
   "cell_type": "code",
   "execution_count": 20,
   "id": "f1d12b2d-d201-4425-b910-5e30549b90c5",
   "metadata": {},
   "outputs": [],
   "source": [
    "# Parse the html data\n",
    "gme_soup = BeautifulSoup(gme_html_data, \"html.parser\")"
   ]
  },
  {
   "cell_type": "code",
   "execution_count": 21,
   "id": "d6ffbbdb-bed1-4612-b69f-e1e8664cf8d0",
   "metadata": {},
   "outputs": [],
   "source": [
    "# Extract the table with GameStop Revenue and store it into a dataframe named gme_revenue\n",
    "gme_table = gme_soup.find(\"table\")\n",
    "gme_revenue = pd.read_html(str(table))[0]"
   ]
  },
  {
   "cell_type": "code",
   "execution_count": 22,
   "id": "4cf4458c-8a2c-4fd7-bcff-0b2d8527e8f5",
   "metadata": {},
   "outputs": [],
   "source": [
    "# Rename columns\n",
    "gme_revenue.columns = [\"Date\", \"Revenue\"]\n"
   ]
  },
  {
   "cell_type": "code",
   "execution_count": 30,
   "id": "c2845b00-74f9-48e4-8fac-271b9a69a3c8",
   "metadata": {
    "tags": []
   },
   "outputs": [],
   "source": [
    "# Remove comma and dollar sign from Revenue column\n",
    "gme_revenue[\"Revenue\"] = gme_revenue['Revenue'].str.replace(',|\\$',\"\", regex=True)"
   ]
  },
  {
   "cell_type": "code",
   "execution_count": 24,
   "id": "c830addd-8ed3-4b6d-a617-d5fa0f840b5b",
   "metadata": {},
   "outputs": [],
   "source": [
    "# Remove null or empty strings in the Revenue column\n",
    "gme_revenue.dropna(inplace=True)\n",
    "gme_revenue = gme_revenue[gme_revenue['Revenue'] != \"\"]"
   ]
  },
  {
   "cell_type": "code",
   "execution_count": 25,
   "id": "c8373c5c-b8fe-4b4f-abb5-4d4a2f5f1eba",
   "metadata": {},
   "outputs": [
    {
     "name": "stdout",
     "output_type": "stream",
     "text": [
      "    Date Revenue\n",
      "8   2013    2013\n",
      "9   2012     413\n",
      "10  2011     204\n",
      "11  2010     117\n",
      "12  2009     112\n"
     ]
    }
   ],
   "source": [
    "# Display the last 5 rows of the gme_revenue dataframe\n",
    "print(gme_revenue.tail())"
   ]
  },
  {
   "cell_type": "code",
   "execution_count": null,
   "id": "80bb8650-65ee-4705-9789-19116075da10",
   "metadata": {},
   "outputs": [],
   "source": []
  },
  {
   "cell_type": "markdown",
   "id": "73a69ff1-157b-4c6c-8416-68bdc23dc1fc",
   "metadata": {},
   "source": [
    "Question 5: Plot Tesla Stock Graph"
   ]
  },
  {
   "cell_type": "code",
   "execution_count": 26,
   "id": "1464036e-8b82-47e2-b002-a29a9c5ee9d3",
   "metadata": {
    "tags": []
   },
   "outputs": [],
   "source": [
    "import matplotlib.pyplot as plt\n",
    "\n",
    "def make_graph(stock_data, revenue_data, title):\n",
    "    plt.figure(figsize=(10, 6))\n",
    "    \n",
    "    # Plotting stock data\n",
    "    plt.plot(stock_data['Date'], stock_data['Close'], label='Stock Price', color='blue')\n",
    "    \n",
    "    # Plotting revenue data\n",
    "    plt.bar(revenue_data['Date'], revenue_data['Revenue'], label='Revenue', color='orange')\n",
    "    \n",
    "    plt.xlabel('Date')\n",
    "    plt.ylabel('Value')\n",
    "    plt.title(title)\n",
    "    plt.legend()\n",
    "    plt.grid(True)\n",
    "    plt.show()"
   ]
  },
  {
   "cell_type": "code",
   "execution_count": 27,
   "id": "b9051b1d-9f04-430e-91c7-773af01503d6",
   "metadata": {},
   "outputs": [
    {
     "data": {
      "image/png": "[encoded data removed]",
      "text/plain": [
       "<Figure size 1000x600 with 1 Axes>"
      ]
     },
     "metadata": {},
     "output_type": "display_data"
    }
   ],
   "source": [
    "# Plot Tesla Stock Graph\n",
    "make_graph(tsla_data, tsla_revenue, 'Tesla')"
   ]
  },
  {
   "cell_type": "code",
   "execution_count": null,
   "id": "ce465642-3c93-4c43-a932-07365a862d38",
   "metadata": {},
   "outputs": [],
   "source": []
  },
  {
   "cell_type": "markdown",
   "id": "27533826-995f-43c6-8942-54719a294399",
   "metadata": {},
   "source": [
    "Question 6: Plot GameStop Stock Graph"
   ]
  },
  {
   "cell_type": "code",
   "execution_count": 28,
   "id": "882e3352-ef5f-460a-9f28-92c9f099fd29",
   "metadata": {
    "tags": []
   },
   "outputs": [],
   "source": [
    "import matplotlib.pyplot as plt\n",
    "\n",
    "def make_graph(stock_data, revenue_data, title):\n",
    "    plt.figure(figsize=(10, 6))\n",
    "    \n",
    "    # Plotting stock data\n",
    "    plt.plot(stock_data['Date'], stock_data['Close'], label='Stock Price', color='blue')\n",
    "    \n",
    "    # Plotting revenue data\n",
    "    plt.bar(revenue_data['Date'], revenue_data['Revenue'], label='Revenue', color='orange')\n",
    "    \n",
    "    plt.xlabel('Date')\n",
    "    plt.ylabel('Value')\n",
    "    plt.title(title)\n",
    "    plt.legend()\n",
    "    plt.grid(True)\n",
    "    plt.show()"
   ]
  },
  {
   "cell_type": "code",
   "execution_count": 29,
   "id": "b8ddae96-20ff-4871-9648-906a3182ff81",
   "metadata": {
    "tags": []
   },
   "outputs": [
    {
     "data": {
      "image/png": "[encoded data removed]",
      "text/plain": [
       "<Figure size 1000x600 with 1 Axes>"
      ]
     },
     "metadata": {},
     "output_type": "display_data"
    }
   ],
   "source": [
    "# Plot GameStop Stock Graph\n",
    "make_graph(gme_data, gme_revenue, 'GameStop')"
   ]
  }
 ],
 "metadata": {
  "kernelspec": {
   "display_name": "Python",
   "language": "python",
   "name": "conda-env-python-py"
  },
  "language_info": {
   "codemirror_mode": {
    "name": "ipython",
    "version": 3
   },
   "file_extension": ".py",
   "mimetype": "text/x-python",
   "name": "python",
   "nbconvert_exporter": "python",
   "pygments_lexer": "ipython3",
   "version": "3.7.12"
  }
 },
 "nbformat": 4,
 "nbformat_minor": 5
}
